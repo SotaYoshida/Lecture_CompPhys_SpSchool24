{
  "cells": [
    {
      "attachments": {},
      "cell_type": "markdown",
      "metadata": {
        "id": "Qlp8TMCwqzju"
      },
      "source": [
        "# Julia入門&導入\n",
        "\n",
        "※一部、所属大学における講義資料として作成中のもの含むのでご了承ください。"
      ]
    },
    {
      "attachments": {},
      "cell_type": "markdown",
      "metadata": {},
      "source": [
        "## Juliaとは\n",
        "\n",
        "Juliaは、MITで開発された、数値計算を得意とするプログラミング言語で、\n",
        "PythonやR、MATLABなどの言語の良いところを取り入れて開発されていて、高速に動作するという特徴を有する。\n",
        "\n",
        "作者らの記事[Why We Created Julia](https://julialang.org/blog/2012/02/why-we-created-julia/)から重要な部分を引用:\n",
        "> We want a language that's open source, with a liberal license. We want the speed of C with the dynamism of Ruby. We want a language that's homoiconic, with true macros like Lisp, but with obvious, familiar mathematical notation like Matlab. We want something as usable for general programming as Python, as easy for statistics as R, as natural for string processing as Perl, as powerful for linear algebra as Matlab, as good at gluing programs together as the shell. Something that is dirt simple to learn, yet keeps the most serious hackers happy. We want it interactive and we want it compiled.\n",
        "\n",
        "ここにJulia言語の理念と特徴が集約されている。  \n",
        "\n",
        "この講義でJuliaを使用する理由は、限られた時間と少ない労力(コーディングや実行時間)でより多くのトピックを学ぶためである。\n",
        "\n"
      ]
    },
    {
      "attachments": {},
      "cell_type": "markdown",
      "metadata": {
        "id": "jO4b2_In7Cd8"
      },
      "source": [
        "## Pythonとの基本文法の違い\n",
        "\n",
        "\n",
        "Pythonは0-based indexだが、Juliaは1-based indexで、配列`arr`の先頭の要素は`arr[1]`となる。  \n",
        "その意味では、PythonはC言語に近く、JuliaはMATLABやFortranに近いと言える。\n",
        "\n",
        "Pythonの場合は、インデントを使ってブロックを表現するが、Juliaの場合は、`begin`と`end`を使ってブロックを表現する。  \n",
        "また、`for`文や`if`文の条件式の後には、明示的に`end`を書く必要がある。  \n",
        "なお、Pythonで関数や条件式などを書く際に必要だったコロン`:`は不要になる。\n",
        "\n",
        "個人的には、インデントを文法とするPythonの方が、コードの見た目が綺麗になると思うが、\n",
        "エディタの設定によっては、インデントがタブとスペースが混在してしまったり、\n",
        "編集の過程でインデントが崩れてしまったりすることがあるので、\n",
        "Juliaの方が、ブロックに対してambiguityが少ないというメリットがあるように思う。\n",
        "\n",
        "またNumpyで言うところのブロードキャストをdefaultで有していて、`v`がFloat64の一次元配列とすると\n",
        "```julia\n",
        "u = a .* v\n",
        "```\n",
        "でスカラー倍をしたベクトル`u`を作ることができる。\n",
        "\n",
        "また、\n",
        "```julia\n",
        "v .= a .* u\n",
        "```\n",
        "と書くと、`v`(が既に定義されていれば)の各要素に`a .* u`の各要素を代入してくれる。  \n",
        "単に\n",
        "```julia\n",
        "v = a .* u\n",
        "A = a .* B\n",
        "```\n",
        "などと書くと、`v`や`A`を新たに定義してしまい、メモリ確保が発生する。\n",
        "ブロードキャストは、特に大次元のベクトルや行列を操作する際、メモリを節約したり更新操作を速く行うために有用である。\n",
        "\n",
        "また、`@.`というマクロをつけることで、ブロードキャストを明示的に書く必要がなくなり、\n",
        "```julia\n",
        "@. A = a * B * C\n",
        "```\n",
        "などとしても$A .= a .* (B .* C)$と同じ意味になるが、\n",
        "なれないうちは、ブロードキャストを明示的に書いた方が良い。\n",
        "\n",
        "\n",
        "### 対応早見表\n",
        "\n",
        "|  | Julia | Python |\n",
        "|---------|---------|---------|\n",
        "| 文字列の出力 | `println(\"Hello, world!\")` | `print(\"Hello, world!\")` |\n",
        "| 変数の定義 | `x = 10` | `x = 10` |\n",
        "| 配列の定義 | `arr = [1, 2, 3]` | `arr = [1, 2, 3]` |\n",
        "| 配列の先頭の要素の取得 | `arr[1]` | `arr[0]` |\n",
        "| 配列の末尾の要素の取得 | `arr[end]` | `arr[-1]` |\n",
        "| 配列の要素の変更 | `arr[1] = 5` | `arr[0] = 5` |\n",
        "| 配列の長さ | `length(arr)` | `len(arr)` |\n",
        "| 行列積 | `A*B` | `np.dot(A,B)` |\n",
        "| 関数の定義 | `function myfunc(引数1,引数2,...)` | `def myfunc(引数1,引数2,...):`\n",
        "\n",
        "\n",
        "## 高速化のtips\n",
        "\n",
        ":::{margin}\n",
        "コード自体が行う計算が軽量な場合、JITコンパイルの時間が無視できなくなるため、\n",
        "実行コマンドを叩いてからの経過時間を競うようなプログラミングコンテストなどにはJuliaは不向きと言えるかもしれない。\n",
        ":::\n",
        "JuliaはPythonのように動的に使用することができるが、\n",
        "Just-In-Time(JIT)コンパイルといって、実行時にソースコードを\"幾つかの工程\"を踏んで機械語に翻訳して実行することで\n",
        "(JITコンパイル自体の時間が生じるものの)非常に高速に実行することができる。\n",
        "\n",
        "\n",
        "Juliaでコードを書いて高速に実行させるtipsとしては、コンパイラにちゃんとヒントを与えてやる事が挙げられる。\n",
        "Juliaでは明示的に型を指定することは必須ではなく、きちんとコードを書けば勝手に速いコードを生成・実行してくれる。\n",
        "ただし、演算の途中で型の不一致などがあると、*勝手に速いコードを生成する*妨げになり、コードが遅くなるため、\n",
        "そうした想定外の型の不一致を避けるために、関数の引数や返り値の型を明示的に指定することが有用となる。\n",
        "\n",
        "特に、行列やベクトルを定義するときは、その型(とサイズ)を明示的に指定して定義するのが良い。\n",
        "\n",
        "```julia\n",
        "A = zeros(Float64,n,m) # 倍精度floatを要素に持つn×m行列を0行列で定義\n",
        "B = randn(Float32,n,m) # 単精度floatを要素に持つn×m行列を正規乱数をつかって定義\n",
        "```\n",
        "\n",
        "その他、高速化のtipsについては公式ドキュメントの[Performance Tips](https://docs.julialang.org/en/v1/manual/performance-tips/)が詳しい。"
      ]
    },
    {
      "attachments": {},
      "cell_type": "markdown",
      "metadata": {},
      "source": [
        "## Juliaの実行環境\n",
        "\n",
        "Juliaを動かす方法は幾つかあるが、この講義では、\n",
        "Juliaをインストールしてターミナル(VS code経由など含む)ないし、JupyterNotebook環境で実行する方法を推奨とする。  \n",
        "一度インストールして`IJulia.jl`パッケージをインストールすれば、.ipynb形式のファイルのJupyter用カーネルを用意することができる。\n",
        "\n",
        "\n",
        "#### Juliaのインストール\n",
        "\n",
        "では、実際にJuliaをインストールする方法をOSごとに紹介しよう。  \n",
        "(著者の意見では)Juliaの環境構築はPythonの環境構築よりも遥かに簡単で安全である。\n",
        "\n",
        "\n",
        "##### Macの場合\n",
        "\n",
        "1. Julia言語の[公式ページ](https://julialang.org/downloads/)から、macOS用の.dmgファイル(長期サポート(LTS)のv1.6か最新版)をダウンロードする。  \n",
        "   ※Apple Siliconチップの場合は、macOS(Apple Silicon)を選択するほうが性能上良いが、どちらでも動かすことは可能。\n",
        "2. ダウンロードしたファイルを開き、Juliaアプリケーションをアプリケーションフォルダに移動する。\n",
        "3. PATHを通すために、ターミナルを開き下記を実行する。  \n",
        "     ※Julia-1.6の部分やbashrcの部分は、適宜ダウンロードしたJuliaのバージョンに置き換えたり使用しているシェルに合わせて変更すること。\n",
        "\n",
        "      ```bash\n",
        "      echo 'export PATH=\"/Applications/Julia-1.6.app/Contents/Resources/julia/bin:$PATH\"' >> ~/.bashrc\n",
        "      ```\n",
        "     \n",
        "      Mac OSの場合、(いつからだったか)標準のシェルがbashからzshに変更されているので、zshを使う場合は、`~/.bashrc`ではなく`~/.zshrc`に追記すること。\n",
        "\n",
        "4. ターミナルで`source ~/.bashrc`などを行い変更を反映したのち、`julia`と入力して、JuliaのREPL(対話環境)が起動することを確認する。\n",
        "\n",
        "\n",
        "##### Windowsの場合\n",
        "\n",
        "1. WSL2をインストールする。\n",
        "2. 下記のLinuxの場合の手順に従う。\n",
        "\n",
        "##### Linux(WSL)の場合\n",
        "\n",
        "1. Julia言語の[公式ページ](https://julialang.org/downloads/)から、Linux用のtar.gzファイル(長期サポート(LTS)のv1.6か最新版)をダウンロードする。  \n",
        "   ※ アーキテクチャに応じたものを選択すること。\n",
        "2. tar.gzを解凍すると`julia-1.9.0`というフォルダができる。この中の`julia-1.9.0/bin/julia`が実行ファイルなので、\n",
        "   この実行ファイルにPATHを通すために、ターミナルを開き下記のように実行する。  \n",
        "   ```bash\n",
        "   echo 'export PATH=\"/path/to/julia-1.9.0/bin:$PATH\"' >> ~/.bashrc\n",
        "   ```\n",
        "   - 1.9.0の部分はダウンロードしたバージョンに依る。\n",
        "   - `/path/to/`は適宜ファイルの場所に置き換えること。とくにWSLの場合は、ダウンロードしたものもLinuxのホーム以下に置いておこう。  \n",
        "      例えば、`/home/username/julia-1.9.0/bin/julia`というパスにjuliaの実行ファイル`julia`がある場合、`export PATH=/home/username/julia-1.9.0/bin`をホーム直下の隠しファイルである`~/.bashrc`等に追記する。bashrcとは、bashシェルが起動する際に読み込まれる設定ファイルであり、zchなど他のシェルを用いる場合は、それぞれのシェルに合わせた設定ファイルに追記すること。Ubuntuは(少なくともこれを執筆した当時は)デフォルトでbashを使っているので、bashrcに追記する。\n",
        "3. ターミナルで`source ~/.bashrc`などを行い変更を反映したのち、`julia`と入力して、JuliaのREPL(対話環境)が起動することを確認する。\n",
        "\n",
        "### Juliaパッケージ\n",
        "\n",
        "Juliaには、独自のパッケージマネージャが組み込まれており、それ自体が`Pkg`というパッケージになっている。\n",
        "Juliaでパッケージを使用する際は、`using パッケージ名`としてやればよい。これが、Pythonでいう`import`に相当する。\n",
        "\n",
        "Juliaパッケージのインストールは、`Pkg.add(\"パッケージ名\")`とする。\n",
        "相当複雑な依存関係を含むものでない限り、これで問題なくインストールできる。\n",
        "\n",
        "\n",
        "また、Juliaの対話環境REPLで`]`キーを打鍵すると、パッケージマネージャの対話環境に入ることができる。\n",
        "そこでは単に`add package_name`とするだけで、パッケージをインストールできる。\n",
        "package_nameの部分はもちろん、自分の使いたいパッケージ名に置き換えること。\n",
        "\n",
        "インストールされたパッケージは、とくに指定しなければホームディレクトリに`~/.julia`という隠しフォルダが\n",
        "生成され、`~/.julia/packages`以下にインストールされる。\n",
        "またJuliaの優れた特徴として、自分が今いるディレクトリ(環境やプロジェクト)ごとに自身が使用するパッケージやそのバージョン&依存関係を\n",
        "指定することも簡単にできる。\n",
        "\n",
        "\n",
        "例として、線形代数演算を用いる`LinearAlgebra`を使ってみよう。\n",
        "ランダム行列を作って、行列のdeterminant(行列式)を求めてみる。\n",
        "\n",
        "\n"
      ]
    },
    {
      "cell_type": "code",
      "execution_count": 1,
      "metadata": {},
      "outputs": [
        {
          "data": {
            "text/plain": [
              "0.942391333164314"
            ]
          },
          "metadata": {},
          "output_type": "display_data"
        }
      ],
      "source": [
        "using LinearAlgebra\n",
        "A = randn(Float64,5,5)\n",
        "det(A)"
      ]
    },
    {
      "attachments": {},
      "cell_type": "markdown",
      "metadata": {},
      "source": [
        "細かいことを言うと、`using`でパッケージを読み込むと、そのパッケージ内で`export`されている関数や型を、そのまま使うことができる。\n",
        "`import パッケージ名`とすると、パッケージ内の関数や型を、`パッケージ名.関数名`のようにして呼び出す必要がある。\n",
        "\n",
        "たとえ異なるパッケージで同一の関数名が定義されていても、Juliaには多重ディスパッチで関数を呼び出す仕組みがあるので、\n",
        "問題が起こる(複数のライブラリ間で関数の定義が完全に衝突する)事例は稀なので、基本的に`using`を使えばよい。\n"
      ]
    },
    {
      "cell_type": "markdown",
      "metadata": {},
      "source": [
        "#### プロジェクト\n",
        "\n",
        "Juliaでは、複数のパッケージを含むプロジェクトを作成することができる。  \n",
        "自作パッケージなどのプロジェクトフォルダ内に`Project.toml`と`Manifest.toml`というファイルを作成することで、\n",
        "複雑な依存関係を含むパッケージの管理を行いながら、開発・実行することができる。  \n",
        "(Pythonでもrequirements.txtやpyproject.tomlなどを用いたパッケージ管理だが、私は使ったことがないので詳しくない)\n",
        "\n",
        "とくに自作パッケージを作成する場合は必須事項となるので、[Pkg.jlのドキュメント](https://pkgdocs.julialang.org/v1/toml-files/)や  \n",
        "日本語の書籍であれば[Juliaプログラミング大全](https://www.kspub.co.jp/book/detail/5318195.html)や[実践Julia入門](https://gihyo.jp/book/2023/978-4-297-13350-4)を参照してほしい。"
      ]
    },
    {
      "cell_type": "markdown",
      "metadata": {},
      "source": [
        "### Juliaのバージョン管理\n",
        "\n",
        "`juliaup`というJuliaのバージョンを管理するためのツールが便利で、Juliaのバージョンを切り替えることができる。juliaupの[レポジトリ](https://github.com/JuliaLang/juliaup)に従ってインストールしておこう。\n"
      ]
    },
    {
      "attachments": {},
      "cell_type": "markdown",
      "metadata": {},
      "source": [
        "### サンプルコード: Python vs Julia\n",
        "\n",
        "ランダム行列の特異値分解のコードを書いてみよう。どちらも同じくらいシンプルになる。"
      ]
    },
    {
      "cell_type": "markdown",
      "metadata": {},
      "source": [
        "```python\n",
        "#ランダム行列を生成し特異値分解するPythonコード\n",
        "import numpy as np\n",
        "\n",
        "def mat_svd(dim):\n",
        "    A = np.random.randn(dim,dim)\n",
        "    U, s, V = np.linalg.svd(A)\n",
        "    return U, s, V\n",
        "\n",
        "if __name__ == '__main__':\n",
        "    dim = 500\n",
        "    itnum = 1000\n",
        "    for it in range(itnum):\n",
        "        mat_svd(dim)    \n",
        "```"
      ]
    },
    {
      "cell_type": "code",
      "execution_count": 1,
      "metadata": {},
      "outputs": [],
      "source": [
        "#ランダム行列を生成し特異値分解するJuliaコード\n",
        "using LinearAlgebra\n",
        "\n",
        "function mat_svd(dim)\n",
        "    A = randn(dim,dim)\n",
        "    U, s, V = svd(A)\n",
        "    return U, s, V\n",
        "end\n",
        "\n",
        "function main()\n",
        "    dim = 500\n",
        "    itnum = 1000\n",
        "    for it = 1:itnum\n",
        "        mat_svd(dim)    \n",
        "    end\n",
        "end\n",
        "main()"
      ]
    },
    {
      "cell_type": "markdown",
      "metadata": {},
      "source": [
        "## NuclearToolkit.jlの導入\n",
        "\n",
        "この講義では、筆者が2022年に公開したJuliaパッケージ[NuclearToolkit.jl](https://github.com/SotaYoshida/NuclearToolkit.jl)を用いた演習を一部行う。\n",
        "\n",
        "このパッケージの概要と、導入方法などをまとめておく。\n",
        "また、パッケージには一応[ドキュメント](https://sotayoshida.github.io/NuclearToolkit.jl/stable/)があるので、\n",
        "そちらも必要に応じて参照してほしい。\n",
        "\n",
        "NuclearToolkit.jlはいくつかのbuilding blockからなるパッケージで、整理されていない`src`フォルダを見ると分かるように\n",
        "5つほどのサブディレクトリがあり、それぞれが独立したコード群となっている。\n",
        "\n",
        "- ChiEFTint: \n",
        "  主に相互作用ファイルの作成を行う\n",
        "- hartreeforck: 主にHF/HF-MBPT計算や、IMSRG法のインターフェースを与える\n",
        "- IMSRG.jl: IMSRG法\n",
        "- ShellModel: 殻模型計算やEigenvector Continuation法\n",
        "- NuclData.jl: AME(atomic mass evaluation)2020から限られたデータを切り出したもの。\n",
        "\n",
        "\n",
        "だいたい原子核分野のコードというとこれら一つ一つに対してFortranやC++で書かれた5万-10万行のコードが普通なように思うが、\n",
        "NuclearToolkit.jlではそれぞれ数千行、合計2万行程度なので、比較的小規模である。\n",
        "性能はともかくとして、この規模で、核力から核構造計算までをカバーするコードは、筆者の知る限りでは他にない。\n",
        "\n",
        "パッケージのインストールは簡単で、"
      ]
    },
    {
      "cell_type": "code",
      "execution_count": null,
      "metadata": {},
      "outputs": [],
      "source": [
        "using Pkg\n",
        "Pkg.add(\"NuclearToolkit\")"
      ]
    },
    {
      "cell_type": "markdown",
      "metadata": {},
      "source": [
        "とするだけ。\n",
        "\n",
        "パッケージはGitHub Actionsを用いて、Linux, macOS, Windowsの3つのOSでCIを回しているので、\n",
        "少なくともv1.9以降のJuliaであれば、どのOSでも動くはずであるが、\n",
        "本資料の執筆時点で筆者が使用している、Julia v1.10.0及びNuclearToolkit.jlのv0.3.7以降での実行を推奨とする。\n",
        "\n",
        ":::{note}\n",
        "ぜひ、Juliaの導入, NuclearToolkit.jlの導入ののち、JuliaのREPLで`using NuclearToolkit`として、パッケージを読み込むところまでを事前に試して板で蹴ると、スムーズに受講できるかと思います。もし、エラーが出たり、環境構築でわからないことがあれば、講義の前など、気軽に声をかけてください。\n",
        ":::\n",
        "\n"
      ]
    }
  ],
  "metadata": {
    "colab": {
      "collapsed_sections": [],
      "name": "Python_chapter_Bayesian_linear_regression.ipynb",
      "provenance": []
    },
    "kernelspec": {
      "display_name": "Julia 1.9.0",
      "language": "julia",
      "name": "julia-1.9"
    },
    "language_info": {
      "file_extension": ".jl",
      "mimetype": "application/julia",
      "name": "julia",
      "version": "1.9.0"
    }
  },
  "nbformat": 4,
  "nbformat_minor": 0
}
