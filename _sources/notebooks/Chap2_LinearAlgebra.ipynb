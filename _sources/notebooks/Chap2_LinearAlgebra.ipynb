{
  "cells": [
    {
      "attachments": {},
      "cell_type": "markdown",
      "metadata": {
        "id": "Qlp8TMCwqzju"
      },
      "source": [
        "# 線形代数の復習\n",
        "\n",
        "※一部、所属大学における講義資料としての記述を含むので注意"
      ]
    },
    {
      "attachments": {},
      "cell_type": "markdown",
      "metadata": {},
      "source": [
        "## LinearAlgebra.jl\n",
        "\n",
        "Juliaには、線形代数のための標準ライブラリとして`LinearAlgebra.jl`がある。  \n",
        "ここでは、その機能を簡単に紹介するとともに、線形代数の復習をしながらJuliaに慣れていこう。\n",
        "\n",
        "LinearAlgebra内の関数を使用する際には、以下のようにすればよい。"
      ]
    },
    {
      "cell_type": "code",
      "execution_count": 1,
      "metadata": {},
      "outputs": [],
      "source": [
        "using LinearAlgebra"
      ]
    },
    {
      "attachments": {},
      "cell_type": "markdown",
      "metadata": {
        "id": "jO4b2_In7Cd8"
      },
      "source": [
        "## ベクトルの定義\n",
        "\n",
        "ベクトルとは、スカラー倍と和について閉じた集合である。  \n",
        "Juliaでは、他の言語と同様に、ベクトルは配列で表現される。  \n",
        "配列の要素として、整数値(倍精度Int64が標準,Int32,Int16なども使える)や浮動小数点数(倍精度Float64が標準, Float32,Float16なども使える)を用いる。\n",
        "\n",
        "適当なベクトルを定義して、その型を確認してみよう。"
      ]
    },
    {
      "cell_type": "code",
      "execution_count": 2,
      "metadata": {},
      "outputs": [
        {
          "name": "stdout",
          "output_type": "stream",
          "text": [
            "type a: Vector{Int64}, type b: Vector{Float64}, type c: Vector{Float64}\n"
          ]
        }
      ],
      "source": [
        "a = [1,2,3]\n",
        "b = [1.0,2.0,3.0]\n",
        "c = [1,2.1,3]\n",
        "\n",
        "# Juliaでは$()で囲むと変数や変数に対する演算の結果をprintlnに埋め込める\n",
        "println(\"type a: $(typeof(a)), type b: $(typeof(b)), type c: $(typeof(c))\") "
      ]
    },
    {
      "attachments": {},
      "cell_type": "markdown",
      "metadata": {},
      "source": [
        "上のように、ベクトルを適当に定義すると、その方法によって、Int64,Float64のような型が自動的に決定される。  \n",
        "`c`の場合、1,3番目の要素は整数的に指定しているものの、2つめの要素の存在によって、より一般的な型であるFloat64を要素にもつ配列として定義されていることがわかる。\n",
        "\n",
        "ベクトルの要素の指定は、Pythonと同様にインデックスを指定してやればよいが、1からカウントすることに注意(CやPythonは0からカウント)"
      ]
    },
    {
      "cell_type": "code",
      "execution_count": 3,
      "metadata": {},
      "outputs": [
        {
          "name": "stdout",
          "output_type": "stream",
          "text": [
            "1 3\n"
          ]
        }
      ],
      "source": [
        "println(a[1], \" \", a[end])"
      ]
    },
    {
      "attachments": {},
      "cell_type": "markdown",
      "metadata": {},
      "source": [
        "ベクトルのスカラー倍は、ブロードキャストを用いて"
      ]
    },
    {
      "cell_type": "code",
      "execution_count": 4,
      "metadata": {},
      "outputs": [
        {
          "data": {
            "text/plain": [
              "3-element Vector{Int64}:\n",
              " 2\n",
              " 4\n",
              " 6"
            ]
          },
          "metadata": {},
          "output_type": "display_data"
        }
      ],
      "source": [
        "2 .* a"
      ]
    },
    {
      "attachments": {},
      "cell_type": "markdown",
      "metadata": {},
      "source": [
        "などとしてやれば良いし、ベクトル同士の和は単純に"
      ]
    },
    {
      "cell_type": "code",
      "execution_count": 5,
      "metadata": {},
      "outputs": [
        {
          "data": {
            "text/plain": [
              "3-element Vector{Float64}:\n",
              " 2.0\n",
              " 4.0\n",
              " 6.0"
            ]
          },
          "metadata": {},
          "output_type": "display_data"
        }
      ],
      "source": [
        "a + b"
      ]
    },
    {
      "attachments": {},
      "cell_type": "markdown",
      "metadata": {},
      "source": [
        "とすればよい。(再び、結果のベクトルはFloat64のベクトルになっていることに注意しよう。)\n",
        "\n"
      ]
    },
    {
      "attachments": {},
      "cell_type": "markdown",
      "metadata": {},
      "source": [
        "## 行列の定義\n",
        "\n",
        "ベクトルが定義できたので、行列についても同様に定義しよう。  \n",
        "カンマなしで要素を並べると、列方向の要素として認識され、セミコロンで行方向の区切りを指定することができる。"
      ]
    },
    {
      "cell_type": "code",
      "execution_count": 6,
      "metadata": {},
      "outputs": [
        {
          "data": {
            "text/plain": [
              "2×3 Matrix{Int64}:\n",
              " 1  2  3\n",
              " 4  5  6"
            ]
          },
          "metadata": {},
          "output_type": "display_data"
        }
      ],
      "source": [
        "A = [1 2 3; 4 5 6]"
      ]
    },
    {
      "attachments": {},
      "cell_type": "markdown",
      "metadata": {},
      "source": [
        "Int64の要素を持つ2×3行列が定義できた。それぞれの要素の取得は、ベクトルと同様にインデックスを指定してやればよい。"
      ]
    },
    {
      "cell_type": "code",
      "execution_count": 7,
      "metadata": {},
      "outputs": [
        {
          "data": {
            "text/plain": [
              "2"
            ]
          },
          "metadata": {},
          "output_type": "display_data"
        }
      ],
      "source": [
        "A[1,2]"
      ]
    },
    {
      "attachments": {},
      "cell_type": "markdown",
      "metadata": {},
      "source": [
        "Pythonのときは`A[0][1]`といった指定だったが、Juliaでは`A[1,2]`となっていることに注意しよう。  \n",
        "後者の方がなんとなく、数学的な表記に近い気がする。\n",
        "\n",
        "また、indexには`begin`や`end`も使用できる。"
      ]
    },
    {
      "cell_type": "code",
      "execution_count": 8,
      "metadata": {},
      "outputs": [
        {
          "data": {
            "text/plain": [
              "5"
            ]
          },
          "metadata": {},
          "output_type": "display_data"
        }
      ],
      "source": [
        "A[end,2]"
      ]
    },
    {
      "attachments": {},
      "cell_type": "markdown",
      "metadata": {},
      "source": [
        "Juliaではcolumn-major(列方向優先)であることに注意しよう。したがって、\"2番目の要素\"は、2行目1列目の要素である。"
      ]
    },
    {
      "cell_type": "code",
      "execution_count": 9,
      "metadata": {},
      "outputs": [
        {
          "data": {
            "text/plain": [
              "4"
            ]
          },
          "metadata": {},
          "output_type": "display_data"
        }
      ],
      "source": [
        "A[2]"
      ]
    },
    {
      "attachments": {},
      "cell_type": "markdown",
      "metadata": {},
      "source": [
        "3番目は..."
      ]
    },
    {
      "cell_type": "code",
      "execution_count": 10,
      "metadata": {},
      "outputs": [
        {
          "data": {
            "text/plain": [
              "2"
            ]
          },
          "metadata": {},
          "output_type": "display_data"
        }
      ],
      "source": [
        "A[3]"
      ]
    },
    {
      "attachments": {},
      "cell_type": "markdown",
      "metadata": {},
      "source": [
        "となる。\n",
        "\n",
        "ゼロを値にもつ行列を作りたければ`zeros`を用いれば良い。"
      ]
    },
    {
      "cell_type": "code",
      "execution_count": 11,
      "metadata": {},
      "outputs": [
        {
          "name": "stdout",
          "output_type": "stream",
          "text": [
            "a [1, 2, 3]\n",
            "b [1.0, 2.0, 3.0]\n"
          ]
        }
      ],
      "source": [
        "A = zeros(Float64,2,3)\n",
        "B = zeros(Int32,3,4)\n",
        "println(\"a $a\\nb $b\")   "
      ]
    },
    {
      "attachments": {},
      "cell_type": "markdown",
      "metadata": {},
      "source": [
        "Juliaでは上三角行列・下三角行列、対角行列など、特別な構造を持つ行列を扱うことも簡単にできるが、ここでは割愛する。\n",
        "\n",
        "行列$A$の転置はシンプルにシングルクォートを用いるか、`transpose`関数を用いれば良い。"
      ]
    },
    {
      "cell_type": "code",
      "execution_count": 12,
      "metadata": {},
      "outputs": [
        {
          "data": {
            "text/plain": [
              "3×2 adjoint(::Matrix{Float64}) with eltype Float64:\n",
              "  1.472     0.219172\n",
              " -0.074387  0.759722\n",
              " -0.457224  1.83168"
            ]
          },
          "metadata": {},
          "output_type": "display_data"
        }
      ],
      "source": [
        "A = randn(Float64,2,3)\n",
        "B = randn(Float64,3,2)\n",
        "A'"
      ]
    },
    {
      "cell_type": "code",
      "execution_count": 13,
      "metadata": {},
      "outputs": [
        {
          "data": {
            "text/plain": [
              "3×2 transpose(::Matrix{Float64}) with eltype Float64:\n",
              "  1.472     0.219172\n",
              " -0.074387  0.759722\n",
              " -0.457224  1.83168"
            ]
          },
          "metadata": {},
          "output_type": "display_data"
        }
      ],
      "source": [
        "transpose(A)"
      ]
    },
    {
      "attachments": {},
      "cell_type": "markdown",
      "metadata": {},
      "source": [
        "## 行列・ベクトルの演算\n",
        "\n",
        "もう少し、行列やベクトルの演算について続けよう。\n",
        "\n",
        "ベクトル同士の内積(あるいはdot積)は、`LinearAlgebra`にある`dot`関数を用いれば良い。"
      ]
    },
    {
      "cell_type": "code",
      "execution_count": 14,
      "metadata": {},
      "outputs": [
        {
          "data": {
            "text/plain": [
              "14.0"
            ]
          },
          "metadata": {},
          "output_type": "display_data"
        }
      ],
      "source": [
        "dot(a,b)"
      ]
    },
    {
      "attachments": {},
      "cell_type": "markdown",
      "metadata": {},
      "source": [
        "あるいは、ブロードキャストを用いて要素積を計算して和をとっても良い。"
      ]
    },
    {
      "cell_type": "code",
      "execution_count": 15,
      "metadata": {},
      "outputs": [
        {
          "data": {
            "text/plain": [
              "14.0"
            ]
          },
          "metadata": {},
          "output_type": "display_data"
        }
      ],
      "source": [
        "sum(a.*b)"
      ]
    },
    {
      "attachments": {},
      "cell_type": "markdown",
      "metadata": {},
      "source": [
        "行列積は物凄くシンプルに積で書くことができて"
      ]
    },
    {
      "cell_type": "code",
      "execution_count": 16,
      "metadata": {},
      "outputs": [
        {
          "data": {
            "text/plain": [
              "2×2 Matrix{Float64}:\n",
              " -3.79008   0.613576\n",
              " -1.51632  -0.843226"
            ]
          },
          "metadata": {},
          "output_type": "display_data"
        }
      ],
      "source": [
        "C = A * B"
      ]
    },
    {
      "attachments": {},
      "cell_type": "markdown",
      "metadata": {},
      "source": [
        "もう少し効率の良い(数値計算で主に用いる)方法については、LAPACK/BLASの節で説明する。\n",
        "\n",
        ":::{margin}\n",
        "えっと...群の定義は他の授業で出てきたでしょうか？\n",
        "集合$G$に対する二項演算が定義されていて、その演算に対して(1)結合法則が成り立つ、(2)単位元が存在する、(3)逆元が存在する、という条件を満たすとき、$G$を群と呼ぶ。\n",
        "$n$次対称群とは、なんのことはない1からnまでの数を並び替える操作の集合である。\n",
        "この操作は、任意の２つの要素に対する互換(入れ替え)の繰り返しとして表現できる。\n",
        ":::\n",
        "行列式は$n\\times n$の正方行列に対して、下記で定義される。\n",
        "```{math}\n",
        "det(A) \\equiv |A| \\equiv \\sum_{\\sigma \\in S_n} \\mathrm{sgn}(\\sigma) \\prod_{i=1}^n a_{i,\\sigma(i)}\n",
        "```\n",
        "\n",
        "ここで、$\\sigma$は$n$次対称群$S_n$の要素であり、$\\mathrm{sgn}(\\sigma)$は置換$\\sigma$の符号である。\n",
        "この符号は、恒等変換を基準(正号)として、そこから幾つの互換(２要素間の入れ替え)が必要かを数え、その回数が偶数なら正号、奇数なら負号となる。"
      ]
    },
    {
      "cell_type": "code",
      "execution_count": 17,
      "metadata": {},
      "outputs": [
        {
          "data": {
            "text/plain": [
              "3×3 Matrix{Float64}:\n",
              " -1.5782    1.27336   0.358729\n",
              " -0.064757  2.24053   1.56129\n",
              " -2.20286   0.545738  0.658292"
            ]
          },
          "metadata": {},
          "output_type": "display_data"
        }
      ],
      "source": [
        "A = randn(Float64,3,3)"
      ]
    },
    {
      "attachments": {},
      "cell_type": "markdown",
      "metadata": {},
      "source": [
        "に対して定義されて、`det`関数を用いればよくて"
      ]
    },
    {
      "cell_type": "code",
      "execution_count": 18,
      "metadata": {},
      "outputs": [
        {
          "data": {
            "text/plain": [
              "-3.550324254376849"
            ]
          },
          "metadata": {},
          "output_type": "display_data"
        }
      ],
      "source": [
        "det(A)"
      ]
    },
    {
      "attachments": {},
      "cell_type": "markdown",
      "metadata": {},
      "source": [
        "対角成分の和であるトレース(trace)は`tr`関数を用いれば良い。"
      ]
    },
    {
      "cell_type": "code",
      "execution_count": 19,
      "metadata": {},
      "outputs": [
        {
          "data": {
            "text/plain": [
              "1.320622524789642"
            ]
          },
          "metadata": {},
          "output_type": "display_data"
        }
      ],
      "source": [
        "tr(A)"
      ]
    },
    {
      "attachments": {},
      "cell_type": "markdown",
      "metadata": {},
      "source": [
        "行列やベクトルに関する操作をしていると、よく2つのベクトル(行列,テンソル)の距離を計算したくなる。  \n",
        "距離というと、ユークリッド距離が思い浮かぶが、線形代数の世界では、様々な距離を考えることができる。  \n",
        "こうした距離をノルム(norm)と呼ぶ。代表的なものを３つ紹介しよう。　　\n",
        "以下では、簡単のためにベクトルを考えるが、行列についても同様に定義できる。\n",
        "\n",
        "1. L1ノルムは、ベクトルの各要素の絶対値の和で定義され、Lasso回帰や機械学習分野のスパース正則化などに用いられる。\n",
        "    ```{math}\n",
        "    \\|x\\|_1 = \\sum_{i=1}^n |x_i|\n",
        "    ```\n",
        "    \n",
        "2. L2ノルムは、ベクトルの各要素の二乗和の平方根で定義される。ユークリッド距離にも対応している。\n",
        "    ```{math}\n",
        "    \\|x\\|_2 = \\sqrt{\\sum_{i=1}^n x_i^2}\n",
        "    ```\n",
        "\n",
        "3. L$\\infty$ノルムは、ベクトルの各要素の絶対値の最大値で定義される。\n",
        "    ```{math}\n",
        "    \\|x\\|_\\infty = \\max_{i=1,\\dots,n} |x_i|\n",
        "    ```\n",
        "\n",
        "Juliaでは、`norm`関数を用いて、ノルムを計算することができ、下でみるようにL2ノルム(またはフロベニウスノルム)がデフォルトとなっている。"
      ]
    },
    {
      "cell_type": "code",
      "execution_count": 20,
      "metadata": {},
      "outputs": [
        {
          "name": "stdout",
          "output_type": "stream",
          "text": [
            "norm_1: 6.0, norm_2: 3.7416573867739413, norm_default: 3.7416573867739413, norm_inf: 3.0\n"
          ]
        }
      ],
      "source": [
        "v = [1,2,3]\n",
        "norm_1 = norm(v,1)\n",
        "norm_2 = norm(v,2)\n",
        "norm_default = norm(v)\n",
        "norm_inf = norm(v,Inf)\n",
        "\n",
        "println(\"norm_1: $norm_1, norm_2: $norm_2, norm_default: $norm_default, norm_inf: $norm_inf\")"
      ]
    },
    {
      "attachments": {},
      "cell_type": "markdown",
      "metadata": {},
      "source": [
        "## LAPACK/BLAS: 線形代数演算ライブラリの紹介\n",
        "\n",
        "Juliaに限らず、線形代数演算のためのライブラリとして最もポピュラーなものに、LAPACKやBLASがある。  \n",
        "LAPACKは、(元々)Fortranで書かれたライブラリで、線形代数演算のための基本的なサブルーチンを提供している。  \n",
        "BLASは、LAPACK内で用いられているサブルーチンで、ベクトル・行列の演算を高速に行うためのサブルーチンを提供している。\n",
        "BLASもFortranで書かれているが、C言語やC++などからも呼び出すことができたり、CPU/GPUなど様々な環境に最適化された実装が存在する。\n",
        "\n",
        "LAPACK/BLASは、線形代数演算のためのライブラリとして最もポピュラーであるだけでなく、他のライブラリの基礎としても用いられている。\n",
        "したがって、世界中でテストされていることも手伝って高品質で信頼性が高い。  \n",
        "数値誤差をなるべく避けるという意味でも、研究で数値解析を行ったり、何かプロダクトを作るときには、LAPACKやBLASを呼び出して使うことが推奨される。  \n",
        "PythonのNumpyもJuliaのLinearAlgebraもよくよく中を見ていくと、LAPACKやBLASを呼んでいることがわかる。\n",
        "\n",
        "ただし、数値計算の手法や\"間違え方\"を正しく知っておくためには、自分でコードを書いてみて失敗する経験も重要なように思う。  \n",
        "私もコレスキー分解を行う自作コードを書いて初めて、数値誤差に対する自身の理解の浅さに気がついたという経験があります。\n",
        "\n",
        "\n",
        "JuliaではLAPACK/BLASが用いられていて、特にBLASは標準でOpenBLASが用いられている。\n",
        "Intel製CPUを搭載したマシンでは、Intel MKLを用いることもできる。\n",
        "\n",
        "行列行列積を例にとって、LAPACK/BLASを用いた場合と、用いない場合の速度を比較してみよう。\n",
        "まず、LAPACK/BLASを用いない場合は、ループを用いて愚直に行列積を計算する。\n",
        "\n",
        "次に、LAPACK/BLASを用いる場合は、`LinearAlgebra`にある`BLAS.gemm!`関数を用いて行列積を計算する。\n",
        "\n",
        "行列の確保等が計算時間に入らないよう、破壊的な(既にある配列の要素を上書きするような)関数を用いている。\n",
        "`LinearAlgebra.jl`には、`mul!`という便利な関数があり、`LinearAlgebra.BLAS`系の関数を必要に応じて呼び出すようになっている。\n",
        "\n",
        "計測には、`BenchmarkTools`を用いよう。`@btime`というマクロを付けるだけで、簡単に計測できる。\n"
      ]
    },
    {
      "cell_type": "code",
      "execution_count": 5,
      "metadata": {},
      "outputs": [
        {
          "name": "stdout",
          "output_type": "stream",
          "text": [
            "w/  BLAS\n"
          ]
        },
        {
          "name": "stdout",
          "output_type": "stream",
          "text": [
            "  11.642 ms (0 allocations: 0 bytes)\n",
            "w/o BLAS\n"
          ]
        },
        {
          "name": "stdout",
          "output_type": "stream",
          "text": [
            "  970.996 ms (0 allocations: 0 bytes)\n"
          ]
        }
      ],
      "source": [
        "using BenchmarkTools\n",
        "using LinearAlgebra\n",
        "\n",
        "function matrix_product_own(A,B,C)\n",
        "    C .= 0.0\n",
        "    for i in 1:size(A,1)\n",
        "        for j in 1:size(B,2)\n",
        "            for k in 1:size(A,2)\n",
        "                C[i,j] += A[i,k] * B[k,j]\n",
        "            end\n",
        "        end\n",
        "    end\n",
        "    return nothing\n",
        "end \n",
        "\n",
        "function matrix_product_BLAS(A,B,C)\n",
        "    BLAS.gemm!('N','N',1.0,A,B,0.0,C)\n",
        "    return nothing\n",
        "end\n",
        "\n",
        "function main()\n",
        "    A = randn(Float64,1000,1000)\n",
        "    B = randn(Float64,1000,1000)\n",
        "    C = zeros(Float64,1000,1000)\n",
        "    #$はベンチマークのためのおまじない\n",
        "    println(\"w/  BLAS\")\n",
        "    @btime matrix_product_BLAS($A,$B,$C)\n",
        "    println(\"w/o BLAS\")\n",
        "    @btime matrix_product_own($A,$B,$C)\n",
        "end\n",
        "\n",
        "main()"
      ]
    },
    {
      "cell_type": "markdown",
      "metadata": {},
      "source": [
        "著者の環境(M1 Mac Mini)で、BLASを用いる場合が11 ms, 用いない場合が1 s程度であった。\n",
        "\n",
        "今の場合、`@btime`の結果(0 allocations: 0 bytes)からも分かるように、配列の確保によって時間がかかっている訳ではなく、\n",
        "両者とも行列`C`にゼロ詰めして、`A*B`の結果を上書きする、という演算の速度を比較している。\n",
        "実行時間の差から、BLASを用いる恩恵が目に見えて分かるかと思う。"
      ]
    }
  ],
  "metadata": {
    "colab": {
      "collapsed_sections": [],
      "name": "Python_chapter_Bayesian_linear_regression.ipynb",
      "provenance": []
    },
    "kernelspec": {
      "display_name": "Julia 1.9.0",
      "language": "julia",
      "name": "julia-1.9"
    },
    "language_info": {
      "file_extension": ".jl",
      "mimetype": "application/julia",
      "name": "julia",
      "version": "1.9.0"
    }
  },
  "nbformat": 4,
  "nbformat_minor": 0
}
