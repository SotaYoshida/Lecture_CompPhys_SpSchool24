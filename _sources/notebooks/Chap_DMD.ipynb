{
  "cells": [
    {
      "attachments": {},
      "cell_type": "markdown",
      "metadata": {
        "id": "Qlp8TMCwqzju"
      },
      "source": [
        "# 動的モード分解(Dynamic Mode Decomposition)\n",
        "\n",
        "この章では、動的モード分解(Dynamic Mode Decomposition, DMD)を紹介する。\n",
        "\n",
        "DMDは、時空間データから、系のダイナミクスを解析するための手法である。\n",
        "元々、流体力学の分野で提唱された比較的新しい手法で、\n",
        "その後、複雑系のダイナミクスを解析するための手法として、様々な分野で応用されている。\n",
        "\n",
        "本章で使用するパッケージをインストールしておこう (1回実行すればよいため、コメントアウトしておいた)"
      ]
    },
    {
      "cell_type": "code",
      "execution_count": null,
      "metadata": {},
      "outputs": [],
      "source": [
        "# using Pkg \n",
        "# Pkg.add(\"MAT\")\n",
        "# Pkg.add(\"Arpack\")\n",
        "# Pkg.add(\"KrylovKit\")\n",
        "# Pkg.add(\"Plots\")"
      ]
    },
    {
      "cell_type": "markdown",
      "metadata": {},
      "source": [
        "※一般論は別のノートブックにまとめているので、省略した。"
      ]
    },
    {
      "cell_type": "markdown",
      "metadata": {},
      "source": [
        "## 具体例: Kármán渦\n",
        "\n",
        "DMDの有名な教科書(Kutzら)にある、流体力学の例を紹介する。\n",
        "\n",
        "- 教科書: Data-Driven Modeling & Scientific Computation: Methods for Complex Systems & Big Data, J. Nathan Kutz, Cambridge University Press, 2013.\n",
        "- URL: http://dmdbook.com/\n",
        "\n",
        "こちらのページからは、DataとMATLABのコードがダウンロードできる。\n",
        "ここで提供されているデータは、Kármán(カルマン)渦と呼ばれる、円筒形の物体の周りに出来る流体の渦のシミュレーション結果である。\n",
        "カルマン渦が見られる状況としては、例えば水や雲の流れといった自然現象や建築物(煙突)や潜水艦の潜望鏡など多数の例がある。\n",
        "\n",
        "\n",
        "データの中身は、200×450のメッシュ領域における、199×449の速度場(流れ)が、時間方向に151ステップ記録されている。\n",
        "1ステップの時間間隔は、0.2で、$t=0 \\sim 30.0$のデータがある。\n",
        "このデータは、199×449=89351次元のベクトルが151個ある状態とみなせる。\n",
        "\n",
        "\n",
        "このデータに対してDMDを適用してみよう。カレントディレクトリに、`DATA`をダウンロード・展開済と仮定して、まずはデータを可視化してみよう。\n",
        "\n",
        "実装においては、グローバルスコープで行列や行列演算を定義すると、実行時間が膨大になってしまうことをさけるため、\n",
        "関数の内部で行列の確保や演算を行うようにしているため、少々見づらいかもしれない。"
      ]
    },
    {
      "cell_type": "code",
      "execution_count": null,
      "metadata": {},
      "outputs": [],
      "source": [
        "using Plots\n",
        "using MAT\n",
        "file = matopen(\"DATA/FLUIDS/CYLINDER_ALL.mat\")\n",
        "\n",
        "u_all = read(file, \"UALL\")\n",
        "v_all = read(file, \"VALL\")\n",
        "vorticity_all = read(file, \"VORTALL\")\n",
        "println(\"size(u_all) = \", size(u_all), \" size(v_all) = \", size(v_all), \" size(vorticity_all) = \", size(vorticity_all))"
      ]
    },
    {
      "cell_type": "code",
      "execution_count": null,
      "metadata": {},
      "outputs": [],
      "source": [
        "nrow = 199\n",
        "ncol = 449\n",
        "\n",
        "function make_vec_to_mat(vec, nrow, ncol, order=\"r\")\n",
        "    mat = zeros(Float64, nrow, ncol)\n",
        "    if order == \"r\"\n",
        "        for i = 1:length(vec)\n",
        "            mat[i] = vec[i]\n",
        "        end\n",
        "    else #update matrix by vec in colum order\n",
        "        for i = 1:length(vec)\n",
        "            idx_i = div(i, ncol) + 1\n",
        "            idx_j = i - (idx_i - 1) * ncol\n",
        "            mat[idx_i, idx_j] = vec[i]\n",
        "        end\n",
        "    end\n",
        "    return mat\n",
        "end\n"
      ]
    },
    {
      "cell_type": "code",
      "execution_count": null,
      "metadata": {},
      "outputs": [],
      "source": [
        "anim = @animate for i = 1:size(u_all)[2]\n",
        "    mat = make_vec_to_mat(u_all[:,i], nrow, ncol)\n",
        "    tnow = round((i-1) * 0.2, digits=1)\n",
        "    heatmap(mat, aspect_ratio=:equal, color=:viridis, c=:balance, clim=(-1, 1), size=(400, 200), title=\"t = $tnow\")\n",
        "end\n",
        "gif(anim, \"dmd_data_u.gif\", fps = 20)"
      ]
    },
    {
      "cell_type": "code",
      "execution_count": null,
      "metadata": {},
      "outputs": [],
      "source": [
        "anim = @animate for i = 1:size(v_all)[2]\n",
        "    mat = make_vec_to_mat(v_all[:,i], nrow, ncol)\n",
        "    tnow = round((i-1) * 0.2, digits=1)\n",
        "    heatmap(mat, aspect_ratio=:equal, color=:viridis, c=:balance, clim=(-1, 1), size=(400, 200),title=\"t = $tnow\")\n",
        "end\n",
        "gif(anim, \"dmd_data_v.gif\", fps = 20)"
      ]
    },
    {
      "cell_type": "code",
      "execution_count": null,
      "metadata": {},
      "outputs": [],
      "source": [
        "anim = @animate for i = 1:size(vorticity_all)[2]\n",
        "    mat = make_vec_to_mat(vorticity_all[:,i], nrow, ncol)\n",
        "    tnow = round((i-1) * 0.2, digits=1)\n",
        "    heatmap(mat, aspect_ratio=:equal, color=:viridis, c=:balance, clim=(-1, 1), size=(400, 200),title=\"t = $tnow\")\n",
        "end\n",
        "gif(anim, \"dmd_data_vorticity.gif\", fps = 20)"
      ]
    },
    {
      "cell_type": "markdown",
      "metadata": {},
      "source": [
        ":::{margin}\n",
        "JuliaのPlotsでアニメ作るの簡単でびっくり\n",
        ":::\n",
        "データを可視化出来た。では実際に、89351×151のデータについて、DMDを適用してみる。\n"
      ]
    },
    {
      "cell_type": "code",
      "execution_count": null,
      "metadata": {},
      "outputs": [],
      "source": [
        "function dmd(X, Y, r;verbose=false)\n",
        "    # 1.2. truncated SVD using Arpack.jl  \n",
        "    Z = svds(X; nsv=r)[1]\n",
        "    U_r, S_r, Vt_r = Z.U, Z.S, Z.Vt\n",
        "\n",
        "    # 3. tilde(A)\n",
        "    S_r_inv = diagm( 1.0 ./ S_r)\n",
        "    Z = BLAS.gemm('T', 'N', 1.0, Vt_r, S_r_inv)\n",
        "    YZ = BLAS.gemm('N','N',1.0, Y, Z)\n",
        "    Atilde = BLAS.gemm('T', 'N', 1.0, U_r, YZ)\n",
        "\n",
        "    # reconstruction of Y\n",
        "    # method-A: multiplying Atilde k times\n",
        "    Y_latent = zeros(Float64, r, size(Y)[2])\n",
        "    x1 = X[:,1]\n",
        "    x1_r = BLAS.gemv('T', 1.0, U_r, x1)\n",
        "    x_k = zeros(Float64,r)\n",
        "    x_new = zeros(Float64,r) .+ x1_r\n",
        "    for k = 1:size(Y)[2]\n",
        "        x_k .= x_new\n",
        "        BLAS.gemv!('N', 1.0, Atilde, x_k, 0.0, x_new)\n",
        "        Y_latent[:,k] .= x_new\n",
        "    end\n",
        "    Yapprox = BLAS.gemm('N', 'N', 1.0, U_r, Y_latent)\n",
        "    println(\"norm(Y-Yapprox,Inf) = \", norm(Y - Yapprox,Inf), \" Fro. \", norm(Y - Yapprox,2))\n",
        "\n",
        "    # method-B: adding DMD modes (verbose=trueにして、Aと一致するかチェックしておこう)\n",
        "    if verbose\n",
        "        # 4. eigen(tilde(A))\n",
        "        Lambda, W = eigen(Atilde)\n",
        "\n",
        "        # 5. DMD modes\n",
        "        Phi = X * Vt_r' * S_r_inv * W\n",
        "        Phi_pinv = pinv(Phi)\n",
        "\n",
        "        # Y approximation\n",
        "        Yapprox_B = zeros(Float64, size(Y))\n",
        "        Lambda, W = eigen(Atilde)\n",
        "        z = Phi_pinv * X[:,1] \n",
        "        for k = 1:size(Y)[2]  \n",
        "            for i = 1:r\n",
        "                tmp = Lambda[i]^(k) * z[i] * Phi[:,i]\n",
        "                Yapprox_B[:,k] .+= real.(tmp)\n",
        "            end\n",
        "        end\n",
        "        println(\"norm(Y-Yapprox,Inf) = \", norm(Y - Yapprox_B,Inf), \" Fro. \", norm(Y - Yapprox_B,2))\n",
        "    end\n",
        "    return Yapprox\n",
        "end\n",
        "\n",
        "function main(target)\n",
        "\n",
        "    dim = nrow*ncol\n",
        "    num_t = size(target)[2]\n",
        "\n",
        "    X = zeros(Float64, dim, num_t-1)\n",
        "    Y = zeros(Float64, dim, num_t-1)\n",
        "\n",
        "    for i = 1:num_t-1\n",
        "        vec = target[:,i]\n",
        "        X[:,i] .= vec\n",
        "        if i > 1\n",
        "        Y[:,i-1] .= vec\n",
        "        end\n",
        "    end\n",
        "    Y[:,end] .= target[:,end]\n",
        "    println(\"fullrank $(rank(X))\")\n",
        "    ## DMD\n",
        "    trank = 15\n",
        "    Yapprox = dmd(X, Y, trank)\n",
        "\n",
        "    return Y, Yapprox\n",
        "end\n",
        "\n",
        "Y, Yapprox = main(u_all)\n"
      ]
    },
    {
      "cell_type": "code",
      "execution_count": null,
      "metadata": {},
      "outputs": [],
      "source": [
        "anim = @animate for i = 1:size(Y)[2]\n",
        "    mat = make_vec_to_mat(Y[:,i], nrow, ncol)\n",
        "    mat_approx = make_vec_to_mat(Yapprox[:,i], nrow, ncol)\n",
        "    hm1 = heatmap(mat, aspect_ratio=:equal, color=:viridis, c=:balance, clim=(-1, 1), size=(400, 200),title=\"Exact\")\n",
        "    hm2 = heatmap(mat_approx, aspect_ratio=:equal, color=:viridis, c=:balance, clim=(-1, 1), size=(400, 200),title=\"DMD\")    \n",
        "    diff = mat-mat_approx\n",
        "    hm3 = heatmap(diff, aspect_ratio=:equal, color=:viridis, c=:balance, clim=(-1.e-2, 1.e-2), size=(400, 400),title=\"Diff.:=Exact-DMD\")\n",
        "    plot(hm1, hm2, hm3, layout=(3,1), size=(400, 800))\n",
        "end\n",
        "gif(anim, \"dmd_data_compare.gif\", fps = 20)\n"
      ]
    },
    {
      "cell_type": "markdown",
      "metadata": {},
      "source": [
        "上から、元データ、DMDによる近似($r=15 < 150$)、両者の差分をプロットした。  \n",
        "少なくとも目に見えて分かるような差分はなく、データの再構成がうまくいっていることがわかる。"
      ]
    }
  ],
  "metadata": {
    "colab": {
      "collapsed_sections": [],
      "name": "Python_chapter_Bayesian_linear_regression.ipynb",
      "provenance": []
    },
    "kernelspec": {
      "display_name": "Julia 1.9.0",
      "language": "julia",
      "name": "julia-1.9"
    },
    "language_info": {
      "file_extension": ".jl",
      "mimetype": "application/julia",
      "name": "julia",
      "version": "1.9.0"
    }
  },
  "nbformat": 4,
  "nbformat_minor": 0
}
