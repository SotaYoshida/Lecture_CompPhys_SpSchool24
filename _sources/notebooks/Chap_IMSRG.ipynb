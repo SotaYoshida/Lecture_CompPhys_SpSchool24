{
  "cells": [
    {
      "attachments": {},
      "cell_type": "markdown",
      "metadata": {
        "id": "Qlp8TMCwqzju"
      },
      "source": [
        "# 核子系の第一原理計算\n",
        "\n",
        "この章では、核子系の第一原理計算についてとくにpost-HF法に着目して解説する。  \n",
        "\n",
        "少数系の方法(Faddeev-Yakubovsky方程式、Green's function Monte Carlo法など)や、Full-CI法などについてはカバーしない(できない)。\n",
        "\n",
        "post-HF法のうちとくにIn-medium Similarity Renormalization Group(IM-SRG)法は、\n",
        "原子核の基底状態の第一原理計算手法としてだけでなく、\n",
        "殻模型の有効相互作用(バレンス空間の有効核力)の導出にも用いられるなど、応用上非常に重要な手法である。\n",
        "\n",
        "この章では、NuclearToolkit.jlを用いて、IMSRG法による核子系の第一原理計算を行う。"
      ]
    },
    {
      "cell_type": "code",
      "execution_count": 2,
      "metadata": {},
      "outputs": [],
      "source": [
        "using NuclearToolkit"
      ]
    },
    {
      "cell_type": "markdown",
      "metadata": {},
      "source": [
        "## In-medium Similarity Renormalization Group (IM-SRG)\n",
        "\n",
        "核力のソフト化の議論で登場した相似変換くりこみ群(SRG)は、核力をソフト化する方法として考案された後、\n",
        "核子系の第一原理計算にも応用されるようになった。\n",
        "\n",
        "- K.Tsukiyama et al., [Phys. Rev. Lett. 106, 222502 (2011)](https://doi.org/10.1103/PhysRevLett.106.222502).\n",
        "- K.Tsukiyama et al., [Phys. Rev. C 85, 061304(R) (2012)](https://doi.org/10.1103/PhysRevC.85.061304).\n",
        "\n",
        "SRGの背景にあるアイデアは、高運動量-低運動量間のdecouplingであった。\n",
        "IM−SRG法は、SRG変換のdecouplingの対象を核子多体系のparticle-hole空間に拡張したものである。\n",
        "\n",
        "変換後のハミルトニアン$H(s)$のHF基底状態による期待値$\\langle HF| H(s) | HF \\rangle$が\n",
        "占有状態(hole)と非占有状態(particle)間のcouplingの寄与をdecouplingするようなSRG変換を行う。\n",
        "これにより、particle-hole間のcouplingは、自然な形で、hole-hole(particle-particle)間の多体Hamiltonianに\n",
        "繰り込まれるため、占有状態($P$ space)のみをもちいて、ハミルトニアンの期待値(すなわち基底状態エネルギー)を計算できる。\n",
        "\n",
        "$$\n",
        "E_\\mathrm{HF} \\equiv \\langle HF| H(0) | HF \\rangle > E_\\mathrm{IMSRG} \\equiv \\langle HF| H(s) | HF \\rangle  \\approx E_\\mathrm{exact}\n",
        "$$\n",
        "\n",
        "\n",
        "schematic imageを書くと以下のようになる:\n",
        "\n",
        "<img src=\"https://github.com/SotaYoshida/Lecture_CompPhys_SpSchool24/blob/main/notebooks/pic/schematic_IMSRG.png?raw=true\" width=\"90%\">\n",
        "\n",
        "元の図は、S.R.Stroberg et al., [Ann. Rev. Nucl. and Part. Sci., 69 307-362 (2019)](https://doi.org/10.1146/annurev-nucl-101917-021120)から引用した。  \n",
        "左側が変換前のハミルトニアンを表し、$P$($Q$) spaceがそれぞれ、占有状態(hole), 非占有状態(particle)に対応する。\n",
        "\n",
        "\n",
        "※1. IMSRG法はvariationalでないためエネルギーの上限を与えているとは限らないが、少なくとも\n",
        "particle-hole間のcouplingを考慮した有効ハミルトニアンの期待値を計算しているため、単純なHFよりも正確なエネルギーを与えることが期待される。\n",
        "\n",
        "※2. 上ではHF基底状態としたが、一般のreference stateに対して定義される。\n",
        "量子化学などで用いられるNatural Orbitals (NO)を用いる計算もあれば、multi-referenceを考える場合などもある。\n",
        "\n",
        "\n",
        "IM-SRGのflow方程式は、以下のように書ける:\n",
        "\n",
        "$$\n",
        "\\frac{dH(s)}{ds} = [\\eta(s), H(s)]\n",
        "$$\n",
        "\n",
        "ここで、$\\eta(s)$は、flowの生成子であり、\n",
        "\n",
        "$$\n",
        "H(s) = U(s) H(0) U^\\dagger(s)\n",
        "$$\n",
        "\n",
        "$$\n",
        "\\eta(s) = \\frac{dU(s)}{ds} U^\\dagger(s) = -\\eta^\\dagger(s)\n",
        "$$\n",
        "\n",
        "を満たす、反エルミート行列である。この$\\eta$についても幾らかの定義があるが、最もよく用いられるものはarctangent関数を用いたものである。\n",
        "さらに詳細が知りたい人はレビュー論文[S.R. Stroberg et al., \tAnn. Rev. Nucl. and Part. Sci., 69 307-362 (2019)](https://doi.org/10.1146/annurev-nucl-101917-021120)を参照すると良い。\n",
        "\n",
        "\n",
        "#### $\\clubsuit$ IMSRGのMagnus展開\n",
        "\n",
        "以下はテクニカルなので、原子核の第一原理計算を専門にしようと思う人以外は飛ばしてもよい。\n",
        "\n",
        "実際のコードの実装では、Magnus展開を用いたIMSRGの定式化[T.D. Morris et al., Phys. Rev. C 92, 034331 (2015)](https://doi.org/10.1103/PhysRevC.92.034331)を用いることで、演算子ごとのflow方程式を考えることなく系統的に計算を行うことができる。\n",
        "そのキモは、ユニタリ変換の生成子$\\Omega(s)$を明示的に導入することである。\n",
        "\n",
        "$$\n",
        "U(s) & = e^{\\Omega(s)},\\\\\n",
        "O(s) & = e^{\\Omega(s)}O(0)e^{-\\Omega(s)}\n",
        "$$\n",
        "\n",
        "$$\n",
        "\\frac{d\\Omega}{ds} & = \\sum^\\infty_{k=0} \\frac{B_k}{k!} ad^{(k)}_{\\Omega}(\\eta), \\label{eq:adjoint} \\\\\n",
        "ad^{(k)}_{\\Omega}(\\eta) & = \\left[ \\Omega, ad^{(k-1)}_\\Omega(\\eta) \\right],\\\\\n",
        "ad^{(0)}_{\\Omega}(\\eta) & = \\eta,\n",
        "$$\n",
        "\n",
        "ここで、$B_k$はBernoulli数である。\n",
        "\n",
        "これにより、$\\Omega(s)$さえ求まれば、Hamiltonianのflowだけでなく、任意の演算子のflowを計算することができる。\n",
        "演算子のflowはBaker-Campbell-Hausdorff (BCH)公式を用いて計算してやればよい。\n"
      ]
    },
    {
      "cell_type": "markdown",
      "metadata": {},
      "source": [
        "## Normal ordering (編集中)\n",
        "\n",
        "３体力の効果を含めた多体計算手法では、実用上、通常、3体項を顕わに扱うことはできない。\n",
        "そこで、３体力の効果を可能な限り取り込むために、通常、normal orderingと呼ばれる手法が用いられる。\n",
        "つまり、適当なreference stateを用いて、ハミルトニアンをnormal orderingすることで、3体項の効果を2体項に取り込む。\n",
        "\n",
        "一般的な形で、ハミルトニアンは以下のように書ける:\n",
        "\n",
        "$$\n",
        "H = (1- \\frac{1}{A}) T + T^{(2)} + V^{(2)} + V^{(3)}\n",
        "$$\n",
        "\n",
        "$T$は運動量項(kinetik term)で、$V^{(2)}$は2体力、$V^{(3)}$は3体力である。\n",
        "ここで、normal orderingを行うと、Hamiltonianは以下のように書きなおせる:\n",
        "\n",
        "\n",
        "$$\n",
        "H = E + \\sum_{pq} f_{pq} :a^\\dagger_p a_q: \n",
        "+ \\frac{1}{4} \\sum_{pqrs} \\Gamma_{pqrs} a^\\dagger_p a^\\dagger_q a_s a_r:\n",
        "+ \\frac{1}{36} \\sum_{pqrstu} W_{pqrstu}  a^\\dagger_p a^\\dagger_q a^\\dagger_r a_u a_t a_s:\n",
        "$$\n",
        "\n",
        "それぞれ(0,1,2,3-body)の寄与は、\n",
        "\n",
        "$$\n",
        "E = (1- \\frac{1}{A}) \\sum_a \\langle a | T | a \\rangle n_a \n",
        "+ \\frac{1}{2} \\sum_{ab} \\langle ab | T^{(2)}+ V^{(2)} | ab \\rangle n_a n_b \n",
        "+ \\frac{1}{6} \\sum_{abc} \\langle abc | V^{(3)} | abc \\rangle n_a n_b n_c \\\\\n",
        "f_{pq} = \\langle p | T | q \\rangle + \\sum_{a} \\langle pa | V^{(2)} | qa \\rangle n_a\n",
        "+ \\frac{1}{2} \\sum_{ab} \\langle pab | V^{(3)} | qab \\rangle n_a n_b \\\\\n",
        "\\Gamma_{pqrs} = \\langle pq | T^{(2)} + V^{(2)} | rs \\rangle + \\sum_{a} \\langle pqa | V^{(3)} | rsa \\rangle n_a \\\\\n",
        "W_{pqrstu} = \\langle pqr | V^{(3)} | stu \\rangle\n",
        "$$\n",
        "\n",
        "上記のIMSRG計算においても、明示的に3体項$W$を扱うことは通常せず、2体項のみを扱うことが多い。これをIMSRG(2)と呼ぶ。"
      ]
    },
    {
      "cell_type": "markdown",
      "metadata": {},
      "source": [
        "## Valence-space IMSRG (VS-IMSRG)\n",
        "\n",
        "IMSRG法は、閉殻やsub-shell closedの核子系の基底状態の計算には非常に有効であるが、odd核など、開殻の計算には適さない。\n",
        "そのため、開殻系の計算には、Valence-space IMSRG (VS-IMSRG)法が用いられる。\n",
        "\n",
        "IMSRG法のユニタリ変換のdecouplingの対象が、particle-hole間であったのに対し、\n",
        "VS-IMSRG法は、valence spaceとcore space(ないし模型空間外の軌道)の間のdecouplingを行う。\n",
        "通常、この手続きは、IMSRG flowのあとにVS-IMSRG flowを行うことで実現される。\n",
        "\n",
        "こうして得られたVS-IMSRGのハミルトニアン$H(s)$の1体・2体の行列要素を、殻模型の有効相互作用として用いることができる。\n",
        "\n",
        "伝統的には、殻模型計算のインプットである有効相互作用は、現象論的なフィットの他、\n",
        "$G$-matrixを用いた方法や多体摂動論(MBPT)が用いられてきたが、VS-IMSRG法を用いた方法は、\n",
        "有効演算子の導出も可能であるという点で、従来の方法とは一線を画した性質を持つ。\n",
        "\n",
        "たとえば、β崩壊の遷移強度を計算する場合、エネルギースペクトルを系統的に記述するよう構成された現象論的相互作用では、\n",
        "quenching factorといって、模型空間外の軌道の効果をパラメータ化する必要があるが、\n",
        "VS-IMSRG法を用いた方法では、模型空間外の軌道の効果をVS-IMSRGのユニタリ変換によって取り込むことができるため、\n",
        "そうしたパラメータ化を行う必要がないと期待されている。  \n",
        "P.Gysbers et al., [Nature Physics 15, 428–433 (2019)](https://doi.org/10.1038/s41567-019-0450-7)\n",
        "\n"
      ]
    },
    {
      "cell_type": "markdown",
      "metadata": {},
      "source": [
        "## $\\clubsuit$ HF-MBPT \n",
        "\n",
        "`NuclearToolkit.jl`では、いくつかの多体計算手法が実装されているが、\n",
        "(sub-)shell-closedな原子核の場合、その基底状態のエネルギーと半径のみに興味がある場合、\n",
        "最もカンタンな方法は、HF-MBPT (Hartree-Fock Many-Body Perturbation Theory)と呼ばれる計算によるものである。\n",
        "\n",
        "Hartree-Fock (HF)の基底状態をゼロ次近似として、多体摂動論に基づいてスカラー演算子の期待値の補正項を計算する方法で、\n",
        "量子化学では、Møller–Plesset法とも呼ばている(完全に同一のものを指すのかは著者は理解していない)。\n",
        "\n",
        "Energyに対するfirst-orderの補正はby definitionでゼロとなり、高次の補正を考えることになる。\n",
        "NuclearToolkit.jlでは、2次と3次の補正を考えることができる。\n",
        "\n",
        "Many-Body Perturbation Theory (MBPT)やCoupled-Cluster法などの多体計算手法の詳細については、\n",
        "Isaiah Shavitt and Rodney J. Bartlettによる有名な黒い本を参照されたい:  \n",
        "[Many-Body Methods in Chemistry and Physics: MBPT and Coupled-Cluster Theory (Cambridge Molecular Science)](https://doi.org/10.1017/CBO9780511596834)\n",
        "\n",
        "核力とMBPTの性質上、相互作用や原子核によっては結果が上手く収束しない場合もあるが、\n",
        "十分にソフトな相互作用であれば、HF-MBPT(3)を用いれば\n",
        "Coupled-Cluster法のCCSDやIM-SRG(2)と*そう遠くない*エネルギーの推定値を得ることができる。\n",
        "\n",
        "\n"
      ]
    },
    {
      "cell_type": "markdown",
      "metadata": {},
      "source": [
        "## NuclearToolkit.jlを用いたIMSRG計算\n",
        "\n",
        "コード中のインターフェースはHF-MBPTとIMSRG法で共通になっており、`hf_main`関数が主な関数となる。\n",
        "(IMSRG法で計算する/しない場合のいずれでもHF-MBPTの計算を試みるようになっている)  \n",
        "`doIMSRG`というオプション変数を`true`にすることで、IMSRG法の計算を行うことができる。"
      ]
    },
    {
      "cell_type": "code",
      "execution_count": 3,
      "metadata": {
        "tags": [
          "hide-output"
        ]
      },
      "outputs": [
        {
          "name": "stdout",
          "output_type": "stream",
          "text": [
            "Since optional_parameters.jl is not found, the default parameters will be used.\n",
            "You can specify the parameters with optional argument, fn_params like make_chiEFTint(;fn_params=\"PATH_TO_YOUR_FILE\").\n"
          ]
        },
        {
          "name": "stdout",
          "output_type": "stream",
          "text": [
            "size of dWS (jmax 9 lmax 40 e2max 8 Nnmax 20):\n",
            "     dtri    4.46 MB    dcgm0    1.11 MB  d6j_int    1.11 MB   d6j_lj    0.28 MB\n",
            "  d9j_lsj    1.76 MB  dictHOB    0.44 MB\n",
            "target: O16 Ref. => Z=8 N=8 "
          ]
        },
        {
          "name": "stdout",
          "output_type": "stream",
          "text": [
            "E:    -132.7334  = E1b    363.65  + E2b   -496.38   (    -55.15  -367.06   -74.17)\n",
            "EMP2    -23.70205 1b    -0.000 pp    -1.437 pn   -20.810 nn    -1.455\n"
          ]
        },
        {
          "name": "stdout",
          "output_type": "stream",
          "text": [
            "EMP3      0.37877 pp    -0.110 hh    -1.895 ph     2.384\n",
            "E_HF   -132.73341  E_MBPT(3) =    -156.0567  Eexp:     -127.619\n",
            "\n",
            "Since optional_parameters.jl is not found, the default parameters will be used.\n",
            "def-by-run d6j_lj done! "
          ]
        },
        {
          "name": "stdout",
          "output_type": "stream",
          "text": [
            "4191\n",
            " step:        s             E0   ||Omega_1||   ||Omega_2||     ||Eta_1||     ||Eta_2||    Ncomm.  nwritten\n",
            "     0    0.000  -132.73340718  0.000000e+00  0.000000e+00  6.611426e-17  1.410541e+00         0         0\n"
          ]
        },
        {
          "name": "stdout",
          "output_type": "stream",
          "text": [
            "     1    1.000  -155.45145030  6.611426e-17  1.410541e+00  8.506052e-02  2.621342e-01        11         0\n"
          ]
        },
        {
          "name": "stdout",
          "output_type": "stream",
          "text": [
            "     2    2.000  -156.38677129  8.506052e-02  2.621342e-01  5.130681e-02  9.390706e-02        19         1\n"
          ]
        },
        {
          "name": "stdout",
          "output_type": "stream",
          "text": [
            "     3    3.000  -156.52766754  5.130681e-02  9.390706e-02  2.717791e-02  4.018278e-02        26         2\n"
          ]
        },
        {
          "name": "stdout",
          "output_type": "stream",
          "text": [
            "     4    4.000  -156.56178363  7.779262e-02  9.271402e-02  1.743331e-02  2.117043e-02        34         2\n"
          ]
        },
        {
          "name": "stdout",
          "output_type": "stream",
          "text": [
            "     5    5.000  -156.57285078  9.518608e-02  1.111392e-01  9.841165e-03  1.420082e-02        42         2\n"
          ]
        },
        {
          "name": "stdout",
          "output_type": "stream",
          "text": [
            "     6    6.000  -156.57780164  1.049882e-01  1.169982e-01  6.651799e-03  1.166568e-02        50         2\n"
          ]
        },
        {
          "name": "stdout",
          "output_type": "stream",
          "text": [
            "     7    7.000  -156.58072939  1.115299e-01  1.246107e-01  4.486715e-03  1.020031e-02        58         2\n"
          ]
        },
        {
          "name": "stdout",
          "output_type": "stream",
          "text": [
            "     8    8.000  -156.58278204  1.158455e-01  1.299520e-01  3.464443e-03  9.123063e-03        66         2\n"
          ]
        },
        {
          "name": "stdout",
          "output_type": "stream",
          "text": [
            "     9    9.000  -156.58433495  1.190500e-01  1.353147e-01  2.775772e-03  8.164170e-03        74         2\n"
          ]
        },
        {
          "name": "stdout",
          "output_type": "stream",
          "text": [
            "    10   10.000  -156.58554917  1.215140e-01  1.400320e-01  2.362487e-03  7.314644e-03        82         2\n"
          ]
        },
        {
          "name": "stdout",
          "output_type": "stream",
          "text": [
            "    11   11.000  -156.58651050  1.235355e-01  1.444905e-01  2.047606e-03  6.545622e-03        90         2\n"
          ]
        },
        {
          "name": "stdout",
          "output_type": "stream",
          "text": [
            "    12   12.000  -156.58727602  1.252390e-01  1.485714e-01  1.806604e-03  5.856645e-03        98         2\n"
          ]
        },
        {
          "name": "stdout",
          "output_type": "stream",
          "text": [
            "    13   13.000  -156.58788692  1.267139e-01  1.523475e-01  1.602803e-03  5.237651e-03       106         2\n"
          ]
        },
        {
          "name": "stdout",
          "output_type": "stream",
          "text": [
            "    14   14.000  -156.58837496  1.280066e-01  1.558058e-01  1.428376e-03  4.683480e-03       114         2\n"
          ]
        },
        {
          "name": "stdout",
          "output_type": "stream",
          "text": [
            "    15   15.000  -156.58876500  1.291467e-01  1.589708e-01  1.275805e-03  4.187181e-03       121         2\n"
          ]
        },
        {
          "name": "stdout",
          "output_type": "stream",
          "text": [
            "    16   16.000  -156.58907681  1.301625e-01  1.618539e-01  1.140382e-03  3.743041e-03       128         2\n"
          ]
        },
        {
          "name": "stdout",
          "output_type": "stream",
          "text": [
            "    17   17.000  -156.58932608  1.310693e-01  1.644750e-01  1.019124e-03  3.345857e-03       135         2\n"
          ]
        },
        {
          "name": "stdout",
          "output_type": "stream",
          "text": [
            "    18   18.000  -156.58952537  1.318798e-01  1.668513e-01  9.108716e-04  2.990644e-03       142         2\n"
          ]
        },
        {
          "name": "stdout",
          "output_type": "stream",
          "text": [
            "    19   19.000  -156.58968469  1.326047e-01  1.690016e-01  8.140346e-04  2.673020e-03       149         2\n"
          ]
        },
        {
          "name": "stdout",
          "output_type": "stream",
          "text": [
            "    20   20.000  -156.58981207  1.332532e-01  1.709440e-01  7.274655e-04  2.389029e-03       156         2\n"
          ]
        },
        {
          "name": "stdout",
          "output_type": "stream",
          "text": [
            "    21   21.000  -156.58991391  1.338334e-01  1.726959e-01  6.500580e-04  2.135130e-03       163         2\n"
          ]
        },
        {
          "name": "stdout",
          "output_type": "stream",
          "text": [
            "    22   22.000  -156.58999533  1.343527e-01  1.742741e-01  5.808607e-04  1.908149e-03       170         2\n"
          ]
        },
        {
          "name": "stdout",
          "output_type": "stream",
          "text": [
            "    23   23.000  -156.59006044  1.348172e-01  1.756942e-01  5.190075e-04  1.705245e-03       177         2\n"
          ]
        },
        {
          "name": "stdout",
          "output_type": "stream",
          "text": [
            "    24   24.000  -156.59011250  1.352329e-01  1.769709e-01  4.637267e-04  1.523873e-03       184         2\n"
          ]
        },
        {
          "name": "stdout",
          "output_type": "stream",
          "text": [
            "    25   25.000  -156.59015413  1.356047e-01  1.781178e-01  4.143242e-04  1.361757e-03       191         2\n"
          ]
        },
        {
          "name": "stdout",
          "output_type": "stream",
          "text": [
            "    26   26.000  -156.59018744  1.359373e-01  1.791474e-01  3.701783e-04  1.216860e-03       198         2\n"
          ]
        },
        {
          "name": "stdout",
          "output_type": "stream",
          "text": [
            "    27   27.000  -156.59021408  1.362348e-01  1.800711e-01  3.307320e-04  1.087357e-03       205         2\n"
          ]
        },
        {
          "name": "stdout",
          "output_type": "stream",
          "text": [
            "    28   28.000  -156.59023539  1.365008e-01  1.808994e-01  2.954864e-04  9.716185e-04       212         2\n"
          ]
        },
        {
          "name": "stdout",
          "output_type": "stream",
          "text": [
            "    29   29.000  -156.59025245  1.367386e-01  1.816418e-01  2.639951e-04  8.681841e-04       219         2\n"
          ]
        },
        {
          "name": "stdout",
          "output_type": "stream",
          "text": [
            "    30   30.000  -156.59026611  1.369513e-01  1.823070e-01  2.358589e-04  7.757489e-04       226         2\n"
          ]
        },
        {
          "name": "stdout",
          "output_type": "stream",
          "text": [
            "    31   31.000  -156.59027704  1.371414e-01  1.829028e-01  2.107208e-04  6.931458e-04       233         2\n"
          ]
        },
        {
          "name": "stdout",
          "output_type": "stream",
          "text": [
            "    32   32.000  -156.59028580  1.373114e-01  1.834363e-01  1.882615e-04  6.193307e-04       240         2\n"
          ]
        },
        {
          "name": "stdout",
          "output_type": "stream",
          "text": [
            "    33   33.000  -156.59029281  1.374634e-01  1.839139e-01  1.681957e-04  5.533702e-04       247         2\n"
          ]
        },
        {
          "name": "stdout",
          "output_type": "stream",
          "text": [
            "    34   34.000  -156.59029844  1.375992e-01  1.843413e-01  1.502685e-04  4.944298e-04       254         2\n"
          ]
        },
        {
          "name": "stdout",
          "output_type": "stream",
          "text": [
            "    35   35.000  -156.59030295  1.377206e-01  1.847238e-01  1.342520e-04  4.417633e-04       261         2\n"
          ]
        },
        {
          "name": "stdout",
          "output_type": "stream",
          "text": [
            "    36   36.000  -156.59030657  1.378291e-01  1.850660e-01  1.199425e-04  3.947037e-04       268         2\n"
          ]
        },
        {
          "name": "stdout",
          "output_type": "stream",
          "text": [
            "    37   37.000  -156.59030947  1.379261e-01  1.853720e-01  1.071582e-04  3.526547e-04       275         2\n"
          ]
        },
        {
          "name": "stdout",
          "output_type": "stream",
          "text": [
            "    38   38.000  -156.59031181  1.380127e-01  1.856458e-01  9.573655e-05  3.150833e-04       282         2\n"
          ]
        },
        {
          "name": "stdout",
          "output_type": "stream",
          "text": [
            "    39   39.000  -156.59031368  1.380902e-01  1.858906e-01  8.553227e-05  2.815131e-04       289         2\n"
          ]
        },
        {
          "name": "stdout",
          "output_type": "stream",
          "text": [
            "    40   40.000  -156.59031519  1.381594e-01  1.861095e-01  7.641563e-05  2.515183e-04       296         2\n"
          ]
        },
        {
          "name": "stdout",
          "output_type": "stream",
          "text": [
            "    41   41.000  -156.59031641  1.382212e-01  1.863052e-01  6.827071e-05  2.247184e-04       303         2\n"
          ]
        },
        {
          "name": "stdout",
          "output_type": "stream",
          "text": [
            "    42   42.000  -156.59031738  1.382765e-01  1.864802e-01  6.099393e-05  2.007733e-04       310         2\n"
          ]
        },
        {
          "name": "stdout",
          "output_type": "stream",
          "text": [
            "    43   43.000  -156.59031817  1.383259e-01  1.866366e-01  5.449277e-05  1.793790e-04       317         2\n"
          ]
        },
        {
          "name": "stdout",
          "output_type": "stream",
          "text": [
            "    44   44.000  -156.59031881  1.383700e-01  1.867764e-01  4.868454e-05  1.602640e-04       324         2\n"
          ]
        },
        {
          "name": "stdout",
          "output_type": "stream",
          "text": [
            "    45   45.000  -156.59031933  1.384094e-01  1.869014e-01  4.349540e-05  1.431855e-04       331         2\n"
          ]
        },
        {
          "name": "stdout",
          "output_type": "stream",
          "text": [
            "    46   46.000  -156.59031975  1.384447e-01  1.870131e-01  3.885936e-05  1.279266e-04       338         2\n"
          ]
        },
        {
          "name": "stdout",
          "output_type": "stream",
          "text": [
            "    47   47.000  -156.59032008  1.384762e-01  1.871130e-01  3.471746e-05  1.142935e-04       345         2\n"
          ]
        },
        {
          "name": "stdout",
          "output_type": "stream",
          "text": [
            "    48   48.000  -156.59032036  1.385043e-01  1.872022e-01  3.101703e-05  1.021131e-04       352         2\n"
          ]
        },
        {
          "name": "stdout",
          "output_type": "stream",
          "text": [
            "    49   49.000  -156.59032058  1.385294e-01  1.872820e-01  2.771102e-05  9.123066e-05       359         2\n"
          ]
        },
        {
          "name": "stdout",
          "output_type": "stream",
          "text": [
            "    50   50.000  -156.59032076  1.385519e-01  1.873532e-01  2.475739e-05  8.150782e-05       367         2\n"
          ]
        },
        {
          "name": "stdout",
          "output_type": "stream",
          "text": [
            "    51   51.000  -156.59032091  1.385719e-01  1.874169e-01  2.211858e-05  7.282108e-05       375         2\n"
          ]
        },
        {
          "name": "stdout",
          "output_type": "stream",
          "text": [
            "    52   52.000  -156.59032104  1.385899e-01  1.874738e-01  1.976103e-05  6.506004e-05       383         2\n"
          ]
        },
        {
          "name": "stdout",
          "output_type": "stream",
          "text": [
            "    53   53.000  -156.59032114  1.386059e-01  1.875247e-01  1.765476e-05  5.812609e-05       391         2\n"
          ]
        },
        {
          "name": "stdout",
          "output_type": "stream",
          "text": [
            "    54   54.000  -156.59032122  1.386202e-01  1.875701e-01  1.577300e-05  5.193108e-05       399         2\n"
          ]
        },
        {
          "name": "stdout",
          "output_type": "stream",
          "text": [
            "    55   55.000  -156.59032129  1.386330e-01  1.876107e-01  1.409180e-05  4.639629e-05       407         2\n"
          ]
        },
        {
          "name": "stdout",
          "output_type": "stream",
          "text": [
            "    56   56.000  -156.59032134  1.386444e-01  1.876470e-01  1.258980e-05  4.145135e-05       415         2\n"
          ]
        },
        {
          "name": "stdout",
          "output_type": "stream",
          "text": [
            "    57   57.000  -156.59032139  1.386546e-01  1.876794e-01  1.124790e-05  3.703343e-05       423         2\n"
          ]
        },
        {
          "name": "stdout",
          "output_type": "stream",
          "text": [
            "    58   58.000  -156.59032143  1.386637e-01  1.877084e-01  1.004902e-05  3.308634e-05       431         2\n"
          ]
        },
        {
          "name": "stdout",
          "output_type": "stream",
          "text": [
            "    59   59.000  -156.59032146  1.386719e-01  1.877342e-01  8.977929e-06  2.955993e-05       439         2\n"
          ]
        },
        {
          "name": "stdout",
          "output_type": "stream",
          "text": [
            "    60   60.000  -156.59032149  1.386791e-01  1.877574e-01  8.021001e-06  2.640935e-05       447         2\n"
          ]
        },
        {
          "name": "stdout",
          "output_type": "stream",
          "text": [
            "    61   61.000  -156.59032151  1.386856e-01  1.877780e-01  7.166069e-06  2.359456e-05       455         2\n"
          ]
        },
        {
          "name": "stdout",
          "output_type": "stream",
          "text": [
            "    62   62.000  -156.59032153  1.386915e-01  1.877965e-01  6.402261e-06  2.107977e-05       463         2\n"
          ]
        },
        {
          "name": "stdout",
          "output_type": "stream",
          "text": [
            "    63   63.000  -156.59032154  1.386966e-01  1.878130e-01  5.719865e-06  1.883301e-05       471         2\n"
          ]
        },
        {
          "name": "stdout",
          "output_type": "stream",
          "text": [
            "    64   64.000  -156.59032156  1.387013e-01  1.878277e-01  5.110203e-06  1.682571e-05       479         2\n"
          ]
        },
        {
          "name": "stdout",
          "output_type": "stream",
          "text": [
            "    65   65.000  -156.59032157  1.387054e-01  1.878409e-01  4.565524e-06  1.503235e-05       487         2\n"
          ]
        },
        {
          "name": "stdout",
          "output_type": "stream",
          "text": [
            "    66   66.000  -156.59032158  1.387091e-01  1.878527e-01  4.078900e-06  1.343014e-05       495         2\n"
          ]
        },
        {
          "name": "stdout",
          "output_type": "stream",
          "text": [
            "    67   67.000  -156.59032159  1.387124e-01  1.878632e-01  3.644143e-06  1.199869e-05       503         2\n"
          ]
        },
        {
          "name": "stdout",
          "output_type": "stream",
          "text": [
            "    68   68.000  -156.59032159  1.387154e-01  1.878726e-01  3.255726e-06  1.071981e-05       511         2\n"
          ]
        },
        {
          "name": "stdout",
          "output_type": "stream",
          "text": [
            "    69   69.000  -156.59032160  1.387180e-01  1.878809e-01  2.908709e-06  9.577234e-06       519         2\n"
          ]
        },
        {
          "name": "stdout",
          "output_type": "stream",
          "text": [
            "    70   70.000  -156.59032160  1.387204e-01  1.878884e-01  2.598679e-06  8.556441e-06       527         2\n"
          ]
        },
        {
          "name": "stdout",
          "output_type": "stream",
          "text": [
            "    71   71.000  -156.59032161  1.387225e-01  1.878951e-01  2.321695e-06  7.644449e-06       535         2\n"
          ]
        },
        {
          "name": "stdout",
          "output_type": "stream",
          "text": [
            "    72   72.000  -156.59032161  1.387244e-01  1.879011e-01  2.074233e-06  6.829661e-06       543         2\n"
          ]
        },
        {
          "name": "stdout",
          "output_type": "stream",
          "text": [
            "    73   73.000  -156.59032162  1.387261e-01  1.879065e-01  1.853147e-06  6.101716e-06       551         2\n"
          ]
        },
        {
          "name": "stdout",
          "output_type": "stream",
          "text": [
            "    74   74.000  -156.59032162  1.387276e-01  1.879112e-01  1.655627e-06  5.451360e-06       559         2\n"
          ]
        },
        {
          "name": "stdout",
          "output_type": "stream",
          "text": [
            "    75   75.000  -156.59032162  1.387289e-01  1.879155e-01  1.479159e-06  4.870322e-06       567         2\n"
          ]
        },
        {
          "name": "stdout",
          "output_type": "stream",
          "text": [
            "    76   76.000  -156.59032162  1.387301e-01  1.879193e-01  1.321500e-06  4.351214e-06       575         2\n"
          ]
        },
        {
          "name": "stdout",
          "output_type": "stream",
          "text": [
            "    77   77.000  -156.59032163  1.387312e-01  1.879227e-01  1.180646e-06  3.887435e-06       583         2\n"
          ]
        },
        {
          "name": "stdout",
          "output_type": "stream",
          "text": [
            "    78   78.000  -156.59032163  1.387321e-01  1.879258e-01  1.054805e-06  3.473088e-06       591         2\n"
          ]
        },
        {
          "name": "stdout",
          "output_type": "stream",
          "text": [
            "    79   79.000  -156.59032163  1.387330e-01  1.879285e-01  9.423767e-07  3.102905e-06       599         2\n"
          ]
        },
        {
          "name": "stdout",
          "output_type": "stream",
          "text": [
            "    80   80.000  -156.59032163  1.387337e-01  1.879309e-01  8.419319e-07  2.772178e-06       607         2\n"
          ]
        },
        {
          "name": "stdout",
          "output_type": "stream",
          "text": [
            "    81   81.000  -156.59032163  1.387344e-01  1.879331e-01  7.521932e-07  2.476702e-06       615         2\n"
          ]
        },
        {
          "name": "stdout",
          "output_type": "stream",
          "text": [
            "    82   82.000  -156.59032163  1.387350e-01  1.879350e-01  6.720195e-07  2.212719e-06       623         2\n"
          ]
        },
        {
          "name": "stdout",
          "output_type": "stream",
          "text": [
            "    83   83.000  -156.59032163  1.387356e-01  1.879368e-01  6.003912e-07  1.976874e-06       631         2\n"
          ]
        },
        {
          "name": "stdout",
          "output_type": "stream",
          "text": [
            "    84   84.000  -156.59032164  1.387361e-01  1.879383e-01  5.363975e-07  1.766166e-06       639         2\n"
          ]
        },
        {
          "name": "stdout",
          "output_type": "stream",
          "text": [
            "    85   85.000  -156.59032164  1.387365e-01  1.879397e-01  4.792247e-07  1.577917e-06       647         2\n"
          ]
        },
        {
          "name": "stdout",
          "output_type": "stream",
          "text": [
            "    86   86.000  -156.59032164  1.387369e-01  1.879409e-01  4.281457e-07  1.409732e-06       655         2\n"
          ]
        },
        {
          "name": "stdout",
          "output_type": "stream",
          "text": [
            "    87   87.000  -156.59032164  1.387372e-01  1.879420e-01  3.825111e-07  1.259474e-06       663         2\n"
          ]
        },
        {
          "name": "stdout",
          "output_type": "stream",
          "text": [
            "    88   88.000  -156.59032164  1.387376e-01  1.879430e-01  3.417405e-07  1.125231e-06       671         2\n"
          ]
        },
        {
          "name": "stdout",
          "output_type": "stream",
          "text": [
            "    89   89.000  -156.59032164  1.387378e-01  1.879439e-01  3.053155e-07  1.005296e-06       679         2\n"
          ]
        },
        {
          "name": "stdout",
          "output_type": "stream",
          "text": [
            "    90   90.000  -156.59032164  1.387381e-01  1.879447e-01  2.727730e-07  8.981453e-07       687         2\n"
          ]
        },
        {
          "data": {
            "text/plain": [
              "true"
            ]
          },
          "metadata": {},
          "output_type": "display_data"
        }
      ],
      "source": [
        "sntf = \"tbme_em500n3lo_srg2.0hw20emax4.snt.bin\"\n",
        "hw = 20.0\n",
        "emax = 4\n",
        "hf_main([\"O16\"],sntf,hw,emax; doIMSRG=true)"
      ]
    },
    {
      "cell_type": "markdown",
      "metadata": {},
      "source": [
        "- HF: -132.951\n",
        "- HF-MBPT(3): -156.057\n",
        "- IMSRG(2): -156.590\n",
        "\n",
        "実験値は-127.619 MeVである。HFの方が実験値に近いじゃないか！と思うかもしれないが、今考えている相互作用はinduced&genuine３体力の寄与を無視しているため、束縛エネルギーを過大評価するのが自然な相互作用になっている。\n",
        "実験値との比較を考えてもそう意味はない。\n"
      ]
    }
  ],
  "metadata": {
    "colab": {
      "collapsed_sections": [],
      "name": "Python_chapter_Bayesian_linear_regression.ipynb",
      "provenance": []
    },
    "kernelspec": {
      "display_name": "Julia 1.10.0",
      "language": "julia",
      "name": "julia-1.10"
    },
    "language_info": {
      "file_extension": ".jl",
      "mimetype": "application/julia",
      "name": "julia",
      "version": "1.10.0"
    }
  },
  "nbformat": 4,
  "nbformat_minor": 0
}
